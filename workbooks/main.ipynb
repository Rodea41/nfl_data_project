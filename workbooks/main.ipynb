{
 "cells": [
  {
   "cell_type": "markdown",
   "metadata": {},
   "source": [
    "# Project Overview: "
   ]
  },
  {
   "cell_type": "markdown",
   "metadata": {},
   "source": [
    "#### Objective:\n",
    "The goal of this project is to practice my analysis skills on a dataset. I will be exploring trends in nfl QB statistics over the past 5 seasons. "
   ]
  },
  {
   "cell_type": "markdown",
   "metadata": {},
   "source": [
    "#### Key Questions\n",
    "1. How has the average passing yardage per game changed over the last four seasons?\n",
    "2. Which quarterbacks consistently perform above the league average in touchdowns?\n",
    "3. Is there a relationship between passing attempts and interceptions?"
   ]
  },
  {
   "cell_type": "markdown",
   "metadata": {},
   "source": [
    "## Setup"
   ]
  },
  {
   "cell_type": "code",
   "execution_count": 1,
   "metadata": {},
   "outputs": [],
   "source": [
    "# Import the neccessary libraries\n",
    "import pandas as pd\n",
    "import matplotlib.pyplot as plt\n",
    "import seaborn as sns\n",
    "import nfl_data_py as nfl"
   ]
  },
  {
   "cell_type": "code",
   "execution_count": 2,
   "metadata": {},
   "outputs": [],
   "source": [
    "#Define the timeline for the data\n",
    "seasons = [2020, 2021, 2022, 2023, 2024]"
   ]
  },
  {
   "cell_type": "code",
   "execution_count": null,
   "metadata": {},
   "outputs": [],
   "source": [
    "#Pull the data from the API \n",
    "\"\"\"This will pull the weekly data for the specified years, \n",
    "We only need to run it once. The rest of the time we can use our local copy.\"\"\"\n",
    "\n",
    "get_nfl_data = nfl.import_weekly_data(years=seasons, downcast=True) \n",
    "get_nfl_data.to_csv('nfl_weekly_data.csv', index=False)"
   ]
  },
  {
   "cell_type": "code",
   "execution_count": 3,
   "metadata": {},
   "outputs": [],
   "source": [
    "# Read the data from the CSV file\n",
    "nfl_df = pd.read_csv('nfl_weekly_data.csv')"
   ]
  },
  {
   "cell_type": "code",
   "execution_count": null,
   "metadata": {},
   "outputs": [],
   "source": [
    "nfl_df"
   ]
  },
  {
   "cell_type": "markdown",
   "metadata": {},
   "source": [
    "## Preparing the data\n"
   ]
  },
  {
   "cell_type": "markdown",
   "metadata": {},
   "source": [
    "We are only interested in: \n",
    "1. QB's with over 200 attempts\n",
    "2. Regular Season Stats\n",
    "\n",
    "This will filter out any non-qb players that threw the ball on trick plays. It will also filter out any short term qb replacements that may have stepped into a game so that the starting QB can rest. We are removing these players to reduce outliers that will affect our calculations. "
   ]
  },
  {
   "cell_type": "code",
   "execution_count": 6,
   "metadata": {},
   "outputs": [],
   "source": [
    "qb_df = nfl_df[(nfl_df['position'] == 'QB') & # Only Players designated as QB\n",
    "               (nfl_df['season_type']== 'REG')].copy() # Only Regular Season Games\n",
    "               "
   ]
  },
  {
   "cell_type": "markdown",
   "metadata": {},
   "source": [
    "We will create a new data frame that groups each player by season and adds up their stats. Then a new column for passing yards per game and passing touchdowns per game is created."
   ]
  },
  {
   "cell_type": "code",
   "execution_count": 24,
   "metadata": {},
   "outputs": [],
   "source": [
    "qb_season_stats = (\n",
    "    qb_df.groupby(['season', 'player_display_name',])\n",
    "    .agg(\n",
    "        games_played=('week', 'nunique'),\n",
    "        passing_yards=('passing_yards', 'sum'),\n",
    "        passing_attempts=('attempts', 'sum'),\n",
    "        completions=('completions', 'sum'),\n",
    "        passing_tds=('passing_tds', 'sum'),\n",
    "        interceptions=('interceptions', 'sum')\n",
    "    )\n",
    "    .reset_index()\n",
    ")\n",
    "\n",
    "#Filter out players with less than 200 attemps passing\n",
    "qb_season_stats = qb_season_stats[qb_season_stats['passing_attempts']>= 200]\n",
    "\n",
    "# Calculate how the average passing yards per game. \n",
    "qb_season_stats['passing_yards_per_game'] = (qb_season_stats['passing_yards'] / qb_season_stats['games_played']).round(2)\n",
    "\n",
    "# Calculate the average amound of TD's thrown per game. \n",
    "qb_season_stats['touchdowns_per_game'] = (qb_season_stats['passing_tds']/ qb_season_stats['games_played']).round(2)\n"
   ]
  },
  {
   "cell_type": "code",
   "execution_count": 25,
   "metadata": {},
   "outputs": [
    {
     "data": {
      "application/vnd.microsoft.datawrangler.viewer.v0+json": {
       "columns": [
        {
         "name": "index",
         "rawType": "int64",
         "type": "integer"
        },
        {
         "name": "season",
         "rawType": "int64",
         "type": "integer"
        },
        {
         "name": "player_display_name",
         "rawType": "object",
         "type": "string"
        },
        {
         "name": "games_played",
         "rawType": "int64",
         "type": "integer"
        },
        {
         "name": "passing_yards",
         "rawType": "float64",
         "type": "float"
        },
        {
         "name": "passing_attempts",
         "rawType": "int64",
         "type": "integer"
        },
        {
         "name": "completions",
         "rawType": "int64",
         "type": "integer"
        },
        {
         "name": "passing_tds",
         "rawType": "int64",
         "type": "integer"
        },
        {
         "name": "interceptions",
         "rawType": "float64",
         "type": "float"
        },
        {
         "name": "passing_yards_per_game",
         "rawType": "float64",
         "type": "float"
        },
        {
         "name": "touchdowns_per_game",
         "rawType": "float64",
         "type": "float"
        }
       ],
       "ref": "b10a6675-0fed-4eff-ad36-05a244a5bbae",
       "rows": [
        [
         "1",
         "2020",
         "Aaron Rodgers",
         "16",
         "4299.0",
         "526",
         "372",
         "48",
         "5.0",
         "268.69",
         "3.0"
        ],
        [
         "2",
         "2020",
         "Alex Smith",
         "8",
         "1582.0",
         "252",
         "168",
         "6",
         "8.0",
         "197.75",
         "0.75"
        ],
        [
         "3",
         "2020",
         "Andy Dalton",
         "11",
         "2170.0",
         "333",
         "216",
         "14",
         "8.0",
         "197.27",
         "1.27"
        ],
        [
         "4",
         "2020",
         "Baker Mayfield",
         "16",
         "3563.0",
         "486",
         "305",
         "26",
         "8.0",
         "222.69",
         "1.62"
        ],
        [
         "6",
         "2020",
         "Ben Roethlisberger",
         "15",
         "3803.0",
         "608",
         "399",
         "33",
         "10.0",
         "253.53",
         "2.2"
        ],
        [
         "12",
         "2020",
         "Cam Newton",
         "15",
         "2657.0",
         "368",
         "242",
         "8",
         "10.0",
         "177.13",
         "0.53"
        ],
        [
         "13",
         "2020",
         "Carson Wentz",
         "12",
         "2620.0",
         "437",
         "251",
         "16",
         "15.0",
         "218.33",
         "1.33"
        ],
        [
         "19",
         "2020",
         "Dak Prescott",
         "5",
         "1856.0",
         "222",
         "151",
         "9",
         "4.0",
         "371.2",
         "1.8"
        ],
        [
         "20",
         "2020",
         "Daniel Jones",
         "14",
         "2943.0",
         "448",
         "280",
         "11",
         "10.0",
         "210.21",
         "0.79"
        ],
        [
         "22",
         "2020",
         "Derek Carr",
         "16",
         "4103.0",
         "517",
         "348",
         "27",
         "9.0",
         "256.44",
         "1.69"
        ],
        [
         "23",
         "2020",
         "Deshaun Watson",
         "16",
         "4823.0",
         "544",
         "382",
         "33",
         "7.0",
         "301.44",
         "2.06"
        ],
        [
         "24",
         "2020",
         "Drew Brees",
         "12",
         "2942.0",
         "390",
         "275",
         "24",
         "6.0",
         "245.17",
         "2.0"
        ],
        [
         "25",
         "2020",
         "Drew Lock",
         "13",
         "2933.0",
         "443",
         "254",
         "16",
         "15.0",
         "225.62",
         "1.23"
        ],
        [
         "26",
         "2020",
         "Dwayne Haskins",
         "7",
         "1439.0",
         "241",
         "148",
         "5",
         "7.0",
         "205.57",
         "0.71"
        ],
        [
         "28",
         "2020",
         "Gardner Minshew",
         "9",
         "2259.0",
         "327",
         "216",
         "16",
         "5.0",
         "251.0",
         "1.78"
        ],
        [
         "35",
         "2020",
         "Jared Goff",
         "15",
         "3952.0",
         "552",
         "370",
         "20",
         "13.0",
         "263.47",
         "1.33"
        ],
        [
         "39",
         "2020",
         "Joe Burrow",
         "10",
         "2688.0",
         "404",
         "264",
         "13",
         "5.0",
         "268.8",
         "1.3"
        ],
        [
         "43",
         "2020",
         "Josh Allen",
         "16",
         "4544.0",
         "572",
         "396",
         "37",
         "10.0",
         "284.0",
         "2.31"
        ],
        [
         "45",
         "2020",
         "Justin Herbert",
         "15",
         "4336.0",
         "595",
         "396",
         "31",
         "10.0",
         "289.07",
         "2.07"
        ],
        [
         "46",
         "2020",
         "Kirk Cousins",
         "16",
         "4265.0",
         "516",
         "349",
         "35",
         "13.0",
         "266.56",
         "2.19"
        ],
        [
         "48",
         "2020",
         "Kyler Murray",
         "16",
         "3971.0",
         "558",
         "375",
         "26",
         "12.0",
         "248.19",
         "1.62"
        ],
        [
         "49",
         "2020",
         "Lamar Jackson",
         "15",
         "2757.0",
         "376",
         "242",
         "26",
         "9.0",
         "183.8",
         "1.73"
        ],
        [
         "54",
         "2020",
         "Matt Ryan",
         "16",
         "4581.0",
         "626",
         "407",
         "26",
         "11.0",
         "286.31",
         "1.62"
        ],
        [
         "56",
         "2020",
         "Matthew Stafford",
         "16",
         "4084.0",
         "528",
         "339",
         "26",
         "10.0",
         "255.25",
         "1.62"
        ],
        [
         "58",
         "2020",
         "Mitchell Trubisky",
         "10",
         "2055.0",
         "297",
         "199",
         "16",
         "8.0",
         "205.5",
         "1.6"
        ],
        [
         "61",
         "2020",
         "Nick Foles",
         "9",
         "1852.0",
         "312",
         "202",
         "10",
         "8.0",
         "205.78",
         "1.11"
        ],
        [
         "62",
         "2020",
         "Nick Mullens",
         "10",
         "2437.0",
         "326",
         "211",
         "12",
         "12.0",
         "243.7",
         "1.2"
        ],
        [
         "64",
         "2020",
         "Patrick Mahomes",
         "15",
         "4740.0",
         "588",
         "390",
         "38",
         "6.0",
         "316.0",
         "2.53"
        ],
        [
         "65",
         "2020",
         "Philip Rivers",
         "16",
         "4169.0",
         "543",
         "369",
         "24",
         "11.0",
         "260.56",
         "1.5"
        ],
        [
         "67",
         "2020",
         "Russell Wilson",
         "16",
         "4212.0",
         "558",
         "384",
         "40",
         "13.0",
         "263.25",
         "2.5"
        ],
        [
         "69",
         "2020",
         "Ryan Fitzpatrick",
         "9",
         "2091.0",
         "267",
         "183",
         "13",
         "8.0",
         "232.33",
         "1.44"
        ],
        [
         "70",
         "2020",
         "Ryan Tannehill",
         "16",
         "3819.0",
         "481",
         "315",
         "34",
         "7.0",
         "238.69",
         "2.12"
        ],
        [
         "71",
         "2020",
         "Sam Darnold",
         "12",
         "2208.0",
         "364",
         "217",
         "9",
         "11.0",
         "184.0",
         "0.75"
        ],
        [
         "73",
         "2020",
         "Teddy Bridgewater",
         "15",
         "3733.0",
         "492",
         "340",
         "15",
         "11.0",
         "248.87",
         "1.0"
        ],
        [
         "75",
         "2020",
         "Tom Brady",
         "16",
         "4633.0",
         "610",
         "401",
         "40",
         "12.0",
         "289.56",
         "2.5"
        ],
        [
         "77",
         "2020",
         "Tua Tagovailoa",
         "10",
         "1814.0",
         "290",
         "186",
         "11",
         "5.0",
         "181.4",
         "1.1"
        ],
        [
         "81",
         "2021",
         "Aaron Rodgers",
         "16",
         "4115.0",
         "531",
         "366",
         "37",
         "4.0",
         "257.19",
         "2.31"
        ],
        [
         "82",
         "2021",
         "Andy Dalton",
         "8",
         "1515.0",
         "236",
         "149",
         "8",
         "9.0",
         "189.38",
         "1.0"
        ],
        [
         "83",
         "2021",
         "Baker Mayfield",
         "14",
         "3010.0",
         "418",
         "253",
         "17",
         "13.0",
         "215.0",
         "1.21"
        ],
        [
         "84",
         "2021",
         "Ben Roethlisberger",
         "16",
         "3740.0",
         "605",
         "390",
         "22",
         "10.0",
         "233.75",
         "1.38"
        ],
        [
         "91",
         "2021",
         "Carson Wentz",
         "17",
         "3563.0",
         "516",
         "322",
         "27",
         "7.0",
         "209.59",
         "1.59"
        ],
        [
         "98",
         "2021",
         "Dak Prescott",
         "16",
         "4449.0",
         "596",
         "410",
         "37",
         "10.0",
         "278.06",
         "2.31"
        ],
        [
         "99",
         "2021",
         "Daniel Jones",
         "11",
         "2428.0",
         "361",
         "232",
         "10",
         "7.0",
         "220.73",
         "0.91"
        ],
        [
         "101",
         "2021",
         "Davis Mills",
         "13",
         "2664.0",
         "394",
         "263",
         "16",
         "10.0",
         "204.92",
         "1.23"
        ],
        [
         "103",
         "2021",
         "Derek Carr",
         "17",
         "4804.0",
         "626",
         "428",
         "23",
         "14.0",
         "282.59",
         "1.35"
        ],
        [
         "110",
         "2021",
         "Jacoby Brissett",
         "10",
         "1283.0",
         "225",
         "141",
         "5",
         "4.0",
         "128.3",
         "0.5"
        ],
        [
         "112",
         "2021",
         "Jalen Hurts",
         "15",
         "3144.0",
         "432",
         "265",
         "16",
         "9.0",
         "209.6",
         "1.07"
        ],
        [
         "114",
         "2021",
         "Jared Goff",
         "14",
         "3245.0",
         "494",
         "332",
         "19",
         "8.0",
         "231.79",
         "1.36"
        ],
        [
         "115",
         "2021",
         "Jimmy Garoppolo",
         "15",
         "3810.0",
         "441",
         "301",
         "20",
         "12.0",
         "254.0",
         "1.33"
        ],
        [
         "116",
         "2021",
         "Joe Burrow",
         "16",
         "4611.0",
         "520",
         "366",
         "34",
         "14.0",
         "288.19",
         "2.12"
        ]
       ],
       "shape": {
        "columns": 10,
        "rows": 176
       }
      },
      "text/html": [
       "<div>\n",
       "<style scoped>\n",
       "    .dataframe tbody tr th:only-of-type {\n",
       "        vertical-align: middle;\n",
       "    }\n",
       "\n",
       "    .dataframe tbody tr th {\n",
       "        vertical-align: top;\n",
       "    }\n",
       "\n",
       "    .dataframe thead th {\n",
       "        text-align: right;\n",
       "    }\n",
       "</style>\n",
       "<table border=\"1\" class=\"dataframe\">\n",
       "  <thead>\n",
       "    <tr style=\"text-align: right;\">\n",
       "      <th></th>\n",
       "      <th>season</th>\n",
       "      <th>player_display_name</th>\n",
       "      <th>games_played</th>\n",
       "      <th>passing_yards</th>\n",
       "      <th>passing_attempts</th>\n",
       "      <th>completions</th>\n",
       "      <th>passing_tds</th>\n",
       "      <th>interceptions</th>\n",
       "      <th>passing_yards_per_game</th>\n",
       "      <th>touchdowns_per_game</th>\n",
       "    </tr>\n",
       "  </thead>\n",
       "  <tbody>\n",
       "    <tr>\n",
       "      <th>1</th>\n",
       "      <td>2020</td>\n",
       "      <td>Aaron Rodgers</td>\n",
       "      <td>16</td>\n",
       "      <td>4299.0</td>\n",
       "      <td>526</td>\n",
       "      <td>372</td>\n",
       "      <td>48</td>\n",
       "      <td>5.0</td>\n",
       "      <td>268.69</td>\n",
       "      <td>3.00</td>\n",
       "    </tr>\n",
       "    <tr>\n",
       "      <th>2</th>\n",
       "      <td>2020</td>\n",
       "      <td>Alex Smith</td>\n",
       "      <td>8</td>\n",
       "      <td>1582.0</td>\n",
       "      <td>252</td>\n",
       "      <td>168</td>\n",
       "      <td>6</td>\n",
       "      <td>8.0</td>\n",
       "      <td>197.75</td>\n",
       "      <td>0.75</td>\n",
       "    </tr>\n",
       "    <tr>\n",
       "      <th>3</th>\n",
       "      <td>2020</td>\n",
       "      <td>Andy Dalton</td>\n",
       "      <td>11</td>\n",
       "      <td>2170.0</td>\n",
       "      <td>333</td>\n",
       "      <td>216</td>\n",
       "      <td>14</td>\n",
       "      <td>8.0</td>\n",
       "      <td>197.27</td>\n",
       "      <td>1.27</td>\n",
       "    </tr>\n",
       "    <tr>\n",
       "      <th>4</th>\n",
       "      <td>2020</td>\n",
       "      <td>Baker Mayfield</td>\n",
       "      <td>16</td>\n",
       "      <td>3563.0</td>\n",
       "      <td>486</td>\n",
       "      <td>305</td>\n",
       "      <td>26</td>\n",
       "      <td>8.0</td>\n",
       "      <td>222.69</td>\n",
       "      <td>1.62</td>\n",
       "    </tr>\n",
       "    <tr>\n",
       "      <th>6</th>\n",
       "      <td>2020</td>\n",
       "      <td>Ben Roethlisberger</td>\n",
       "      <td>15</td>\n",
       "      <td>3803.0</td>\n",
       "      <td>608</td>\n",
       "      <td>399</td>\n",
       "      <td>33</td>\n",
       "      <td>10.0</td>\n",
       "      <td>253.53</td>\n",
       "      <td>2.20</td>\n",
       "    </tr>\n",
       "    <tr>\n",
       "      <th>...</th>\n",
       "      <td>...</td>\n",
       "      <td>...</td>\n",
       "      <td>...</td>\n",
       "      <td>...</td>\n",
       "      <td>...</td>\n",
       "      <td>...</td>\n",
       "      <td>...</td>\n",
       "      <td>...</td>\n",
       "      <td>...</td>\n",
       "      <td>...</td>\n",
       "    </tr>\n",
       "    <tr>\n",
       "      <th>391</th>\n",
       "      <td>2024</td>\n",
       "      <td>Sam Darnold</td>\n",
       "      <td>17</td>\n",
       "      <td>4319.0</td>\n",
       "      <td>545</td>\n",
       "      <td>361</td>\n",
       "      <td>35</td>\n",
       "      <td>12.0</td>\n",
       "      <td>254.06</td>\n",
       "      <td>2.06</td>\n",
       "    </tr>\n",
       "    <tr>\n",
       "      <th>394</th>\n",
       "      <td>2024</td>\n",
       "      <td>Spencer Rattler</td>\n",
       "      <td>7</td>\n",
       "      <td>1317.0</td>\n",
       "      <td>228</td>\n",
       "      <td>130</td>\n",
       "      <td>4</td>\n",
       "      <td>5.0</td>\n",
       "      <td>188.14</td>\n",
       "      <td>0.57</td>\n",
       "    </tr>\n",
       "    <tr>\n",
       "      <th>399</th>\n",
       "      <td>2024</td>\n",
       "      <td>Trevor Lawrence</td>\n",
       "      <td>10</td>\n",
       "      <td>2045.0</td>\n",
       "      <td>284</td>\n",
       "      <td>172</td>\n",
       "      <td>11</td>\n",
       "      <td>7.0</td>\n",
       "      <td>204.50</td>\n",
       "      <td>1.10</td>\n",
       "    </tr>\n",
       "    <tr>\n",
       "      <th>401</th>\n",
       "      <td>2024</td>\n",
       "      <td>Tua Tagovailoa</td>\n",
       "      <td>11</td>\n",
       "      <td>2867.0</td>\n",
       "      <td>399</td>\n",
       "      <td>291</td>\n",
       "      <td>19</td>\n",
       "      <td>7.0</td>\n",
       "      <td>260.64</td>\n",
       "      <td>1.73</td>\n",
       "    </tr>\n",
       "    <tr>\n",
       "      <th>405</th>\n",
       "      <td>2024</td>\n",
       "      <td>Will Levis</td>\n",
       "      <td>12</td>\n",
       "      <td>2091.0</td>\n",
       "      <td>301</td>\n",
       "      <td>190</td>\n",
       "      <td>13</td>\n",
       "      <td>12.0</td>\n",
       "      <td>174.25</td>\n",
       "      <td>1.08</td>\n",
       "    </tr>\n",
       "  </tbody>\n",
       "</table>\n",
       "<p>176 rows × 10 columns</p>\n",
       "</div>"
      ],
      "text/plain": [
       "     season player_display_name  games_played  passing_yards  \\\n",
       "1      2020       Aaron Rodgers            16         4299.0   \n",
       "2      2020          Alex Smith             8         1582.0   \n",
       "3      2020         Andy Dalton            11         2170.0   \n",
       "4      2020      Baker Mayfield            16         3563.0   \n",
       "6      2020  Ben Roethlisberger            15         3803.0   \n",
       "..      ...                 ...           ...            ...   \n",
       "391    2024         Sam Darnold            17         4319.0   \n",
       "394    2024     Spencer Rattler             7         1317.0   \n",
       "399    2024     Trevor Lawrence            10         2045.0   \n",
       "401    2024      Tua Tagovailoa            11         2867.0   \n",
       "405    2024          Will Levis            12         2091.0   \n",
       "\n",
       "     passing_attempts  completions  passing_tds  interceptions  \\\n",
       "1                 526          372           48            5.0   \n",
       "2                 252          168            6            8.0   \n",
       "3                 333          216           14            8.0   \n",
       "4                 486          305           26            8.0   \n",
       "6                 608          399           33           10.0   \n",
       "..                ...          ...          ...            ...   \n",
       "391               545          361           35           12.0   \n",
       "394               228          130            4            5.0   \n",
       "399               284          172           11            7.0   \n",
       "401               399          291           19            7.0   \n",
       "405               301          190           13           12.0   \n",
       "\n",
       "     passing_yards_per_game  touchdowns_per_game  \n",
       "1                    268.69                 3.00  \n",
       "2                    197.75                 0.75  \n",
       "3                    197.27                 1.27  \n",
       "4                    222.69                 1.62  \n",
       "6                    253.53                 2.20  \n",
       "..                      ...                  ...  \n",
       "391                  254.06                 2.06  \n",
       "394                  188.14                 0.57  \n",
       "399                  204.50                 1.10  \n",
       "401                  260.64                 1.73  \n",
       "405                  174.25                 1.08  \n",
       "\n",
       "[176 rows x 10 columns]"
      ]
     },
     "execution_count": 25,
     "metadata": {},
     "output_type": "execute_result"
    }
   ],
   "source": [
    "qb_season_stats"
   ]
  },
  {
   "cell_type": "markdown",
   "metadata": {},
   "source": [
    "## Analysis"
   ]
  },
  {
   "cell_type": "markdown",
   "metadata": {},
   "source": [
    "### Q1: How has the average passing yardage per game changed over the last four seasons?"
   ]
  },
  {
   "cell_type": "code",
   "execution_count": null,
   "metadata": {},
   "outputs": [],
   "source": [
    "# Calculate league average per season, rounded to the 2nd decimal place.\n",
    "league_avg = qb_season_stats.groupby('season').agg(\n",
    "    avg_passing_yards_per_game=('passing_yards_per_game', 'mean')\n",
    ").round(2).reset_index()"
   ]
  },
  {
   "cell_type": "code",
   "execution_count": null,
   "metadata": {},
   "outputs": [],
   "source": [
    "league_avg"
   ]
  },
  {
   "cell_type": "markdown",
   "metadata": {},
   "source": [
    "Graphing the League average over the past 5 seasons "
   ]
  },
  {
   "cell_type": "code",
   "execution_count": null,
   "metadata": {},
   "outputs": [],
   "source": [
    "# Plot results\n",
    "plt.figure(figsize=(10, 6))\n",
    "sns.lineplot(data=league_avg, x='season', y='avg_passing_yards_per_game', marker='o')\n",
    "plt.title('League Average Passing Yards per Game (2020-2024)')\n",
    "plt.xlabel('Season')\n",
    "plt.ylabel('Yards per Game')\n",
    "plt.grid(True)\n",
    "plt.show()"
   ]
  },
  {
   "cell_type": "code",
   "execution_count": null,
   "metadata": {},
   "outputs": [],
   "source": [
    "# Plot results\n",
    "plt.figure(figsize=(10, 6))\n",
    "\n",
    "# BAR PLOT\n",
    "ax = sns.barplot(data=league_avg, x='season', y='avg_passing_yards_per_game')\n",
    "#Style the chart\n",
    "plt.title('League Average Passing Yards per Game (2020-2024)')\n",
    "plt.xlabel('Season')\n",
    "plt.ylabel('Yards per Game')\n",
    "plt.grid(False, axis='y')\n",
    "plt.margins(y=0.2) # Add some space above the top of the bars. \n",
    "plt.xticks(rotation=45)\n",
    "\n",
    "# VALUES ON TOP OF BARS\n",
    "for i, row in league_avg.iterrows():\n",
    "    ax.plot(i, row['avg_passing_yards_per_game'], 'black', marker='o')\n",
    "    ax.text(i, row['avg_passing_yards_per_game'] + 4, \n",
    "            f\"{row['avg_passing_yards_per_game']}\", ha= 'center', fontsize=10,)\n",
    "\n",
    "\n",
    "plt.show()"
   ]
  },
  {
   "cell_type": "markdown",
   "metadata": {},
   "source": [
    "#### How has the average passing yardage per game changed over the last four seasons?\n",
    "\n",
    "Average passing yards per game have decreased year over year for the past 5 years. "
   ]
  },
  {
   "cell_type": "markdown",
   "metadata": {},
   "source": [
    "### Q2: Which quarterbacks consistently perform above the league average in touchdowns?"
   ]
  },
  {
   "cell_type": "code",
   "execution_count": 9,
   "metadata": {},
   "outputs": [
    {
     "data": {
      "application/vnd.microsoft.datawrangler.viewer.v0+json": {
       "columns": [
        {
         "name": "index",
         "rawType": "int64",
         "type": "integer"
        },
        {
         "name": "season",
         "rawType": "int64",
         "type": "integer"
        },
        {
         "name": "touchdowns_per_game",
         "rawType": "float64",
         "type": "float"
        }
       ],
       "ref": "9f57fc9f-a36a-47ad-9012-c5d67015c67d",
       "rows": [
        [
         "0",
         "2020",
         "1.6083333333333334"
        ],
        [
         "1",
         "2021",
         "1.4636363636363636"
        ],
        [
         "2",
         "2022",
         "1.3857575757575757"
        ],
        [
         "3",
         "2023",
         "1.3642857142857143"
        ],
        [
         "4",
         "2024",
         "1.3741025641025642"
        ]
       ],
       "shape": {
        "columns": 2,
        "rows": 5
       }
      },
      "text/html": [
       "<div>\n",
       "<style scoped>\n",
       "    .dataframe tbody tr th:only-of-type {\n",
       "        vertical-align: middle;\n",
       "    }\n",
       "\n",
       "    .dataframe tbody tr th {\n",
       "        vertical-align: top;\n",
       "    }\n",
       "\n",
       "    .dataframe thead th {\n",
       "        text-align: right;\n",
       "    }\n",
       "</style>\n",
       "<table border=\"1\" class=\"dataframe\">\n",
       "  <thead>\n",
       "    <tr style=\"text-align: right;\">\n",
       "      <th></th>\n",
       "      <th>season</th>\n",
       "      <th>touchdowns_per_game</th>\n",
       "    </tr>\n",
       "  </thead>\n",
       "  <tbody>\n",
       "    <tr>\n",
       "      <th>0</th>\n",
       "      <td>2020</td>\n",
       "      <td>1.608333</td>\n",
       "    </tr>\n",
       "    <tr>\n",
       "      <th>1</th>\n",
       "      <td>2021</td>\n",
       "      <td>1.463636</td>\n",
       "    </tr>\n",
       "    <tr>\n",
       "      <th>2</th>\n",
       "      <td>2022</td>\n",
       "      <td>1.385758</td>\n",
       "    </tr>\n",
       "    <tr>\n",
       "      <th>3</th>\n",
       "      <td>2023</td>\n",
       "      <td>1.364286</td>\n",
       "    </tr>\n",
       "    <tr>\n",
       "      <th>4</th>\n",
       "      <td>2024</td>\n",
       "      <td>1.374103</td>\n",
       "    </tr>\n",
       "  </tbody>\n",
       "</table>\n",
       "</div>"
      ],
      "text/plain": [
       "   season  touchdowns_per_game\n",
       "0    2020             1.608333\n",
       "1    2021             1.463636\n",
       "2    2022             1.385758\n",
       "3    2023             1.364286\n",
       "4    2024             1.374103"
      ]
     },
     "execution_count": 9,
     "metadata": {},
     "output_type": "execute_result"
    }
   ],
   "source": [
    "# Calculate league average touchdowns per game\n",
    "league_avg_td = qb_season_stats.groupby('season')['touchdowns_per_game'].mean().reset_index()\n",
    "\n",
    "league_avg_td"
   ]
  },
  {
   "cell_type": "code",
   "execution_count": 20,
   "metadata": {},
   "outputs": [
    {
     "name": "stdout",
     "output_type": "stream",
     "text": [
      "[{'Baker Mayfield', 'Derek Carr', 'Matthew Stafford', 'Deshaun Watson', 'Lamar Jackson', 'Ben Roethlisberger', 'Russell Wilson', 'Dak Prescott', 'Kirk Cousins', 'Gardner Minshew', 'Justin Herbert', 'Aaron Rodgers', 'Matt Ryan', 'Josh Allen', 'Tom Brady', 'Ryan Tannehill', 'Kyler Murray', 'Patrick Mahomes', 'Drew Brees'}, {'Josh Allen', 'Tom Brady', 'Matthew Stafford', 'Russell Wilson', 'Kyler Murray', 'Patrick Mahomes', 'Dak Prescott', 'Kirk Cousins', 'Joe Burrow', 'Justin Herbert', 'Aaron Rodgers', 'Carson Wentz'}, {'Derek Carr', 'Josh Allen', 'Lamar Jackson', 'Jared Goff', 'Tom Brady', 'Patrick Mahomes', 'Dak Prescott', 'Jimmy Garoppolo', 'Kirk Cousins', 'Trevor Lawrence', 'Joe Burrow', 'Geno Smith', 'Jalen Hurts', 'Tua Tagovailoa', 'Justin Herbert', 'Aaron Rodgers'}, {'Baker Mayfield', 'Derek Carr', 'Josh Allen', 'Joe Flacco', 'Lamar Jackson', 'Jared Goff', 'Matthew Stafford', 'Russell Wilson', 'C.J. Stroud', 'Patrick Mahomes', 'Dak Prescott', 'Kirk Cousins', 'Tua Tagovailoa', 'Joe Burrow', 'Justin Herbert', 'Jordan Love', 'Brock Purdy'}, {'Baker Mayfield', 'Derek Carr', 'Josh Allen', 'Sam Darnold', 'Joe Flacco', 'Lamar Jackson', 'Jared Goff', 'Russell Wilson', 'Patrick Mahomes', 'Dak Prescott', 'Tua Tagovailoa', 'Joe Burrow', 'Aaron Rodgers', 'Jayden Daniels', 'Jordan Love', 'Bo Nix'}]\n"
     ]
    }
   ],
   "source": [
    "# Identify QBs above average each season\n",
    "consistent_qbs = []\n",
    "for year in seasons:\n",
    "    year_data = qb_season_stats[qb_season_stats['season'] == year]\n",
    "    avg_td = league_avg_td[league_avg_td['season'] == year]['touchdowns_per_game'].values[0]\n",
    "    above_avg = year_data[year_data['touchdowns_per_game'] > avg_td]\n",
    "    consistent_qbs.append(set(above_avg['player_display_name']))\n",
    "    \n",
    "\n",
    "print(consistent_qbs)"
   ]
  },
  {
   "cell_type": "code",
   "execution_count": null,
   "metadata": {},
   "outputs": [
    {
     "name": "stdout",
     "output_type": "stream",
     "text": [
      "{'Dak Prescott', 'Josh Allen', 'Patrick Mahomes'}\n"
     ]
    }
   ],
   "source": [
    "# Find QBs consistent across all seasons. \n",
    "consistent_players = set.intersection(*map(set, consistent_qbs))\n",
    "\n",
    "print(consistent_players)"
   ]
  },
  {
   "cell_type": "code",
   "execution_count": null,
   "metadata": {},
   "outputs": [],
   "source": [
    "# Generate report\n",
    "consistency_report = qb_season_stats[qb_season_stats['player_display_name'].isin(consistent_players)][\n",
    "    ['player_display_name', 'season', 'touchdowns_per_game']\n",
    "].sort_values(['player_display_name', 'season'])\n"
   ]
  },
  {
   "cell_type": "code",
   "execution_count": 19,
   "metadata": {},
   "outputs": [
    {
     "name": "stdout",
     "output_type": "stream",
     "text": [
      "    player_display_name  season  touchdowns_per_game\n",
      "19         Dak Prescott    2020                 1.80\n",
      "98         Dak Prescott    2021                 2.31\n",
      "182        Dak Prescott    2022                 1.92\n",
      "265        Dak Prescott    2023                 2.12\n",
      "344        Dak Prescott    2024                 1.38\n",
      "43           Josh Allen    2020                 2.31\n",
      "120          Josh Allen    2021                 2.12\n",
      "204          Josh Allen    2022                 2.19\n",
      "288          Josh Allen    2023                 1.71\n",
      "369          Josh Allen    2024                 1.75\n",
      "64      Patrick Mahomes    2020                 2.53\n",
      "144     Patrick Mahomes    2021                 2.18\n",
      "227     Patrick Mahomes    2022                 2.41\n",
      "310     Patrick Mahomes    2023                 1.69\n",
      "389     Patrick Mahomes    2024                 1.62\n"
     ]
    }
   ],
   "source": [
    "print(consistency_report)"
   ]
  },
  {
   "cell_type": "markdown",
   "metadata": {},
   "source": [
    "Interpretation?? PUT ANSWER HERE"
   ]
  },
  {
   "cell_type": "markdown",
   "metadata": {},
   "source": [
    "### Q3: Is there a relationship between passing attempts and interceptions?"
   ]
  },
  {
   "cell_type": "code",
   "execution_count": 30,
   "metadata": {},
   "outputs": [
    {
     "name": "stdout",
     "output_type": "stream",
     "text": [
      "Correlation Coefficient:  0.5030046153546381\n",
      "\n"
     ]
    },
    {
     "data": {
      "image/png": "[encoded data removed]",
      "text/plain": [
       "<Figure size 1000x600 with 1 Axes>"
      ]
     },
     "metadata": {},
     "output_type": "display_data"
    }
   ],
   "source": [
    "# Calculate correlation\n",
    "correlation = qb_season_stats['passing_attempts'].corr(qb_season_stats['interceptions'])\n",
    "\n",
    "print(\"Correlation Coefficient: \", correlation)\n",
    "print()\n",
    "\n",
    "# Scatter plot with regression line\n",
    "plt.figure(figsize=(10, 6))\n",
    "sns.regplot(data=qb_season_stats, x='passing_attempts', y='interceptions', scatter_kws={'alpha':0.5})\n",
    "plt.title(f'Passing Attempts vs. Interceptions (r = {correlation:.2f})')\n",
    "plt.xlabel('Passing Attempts')\n",
    "plt.ylabel('Interceptions')\n",
    "plt.grid(True)\n",
    "plt.show()\n"
   ]
  },
  {
   "cell_type": "markdown",
   "metadata": {},
   "source": [
    "**Intepretation:**\n",
    "\n",
    "Trend Line:\n",
    "The correlation coefficient r=0.503 means that there is a moderate positive relationship between passing attempts and interceptions. This suggest that Quarterbacks who throw more passes tend to throw more interceptions. \n",
    "\n",
    "Scatter Plot: \n",
    "The scatter plot shows that some quarterbacks throw a lot but keep their INT's relatively low, while the reverse is also true. That makes sense why we only find that there is a moderatae relationship, and not a strong one. The spread of dots around the line shows there is significant variation, which would imply that there are more factors other than passing volume, that play into a QB's interception total. \n",
    "\n",
    "Conclusion: WBile throwing more passes generally leads to more interceptions, QB's skill, decision-making, and other factors play an important roles in determining interception rates. \n",
    "\n",
    "\n"
   ]
  },
  {
   "cell_type": "code",
   "execution_count": null,
   "metadata": {},
   "outputs": [
    {
     "name": "stdout",
     "output_type": "stream",
     "text": [
      "0.5030046153546381\n"
     ]
    }
   ],
   "source": []
  },
  {
   "cell_type": "code",
   "execution_count": null,
   "metadata": {},
   "outputs": [],
   "source": []
  }
 ],
 "metadata": {
  "kernelspec": {
   "display_name": ".venv",
   "language": "python",
   "name": "python3"
  },
  "language_info": {
   "codemirror_mode": {
    "name": "ipython",
    "version": 3
   },
   "file_extension": ".py",
   "mimetype": "text/x-python",
   "name": "python",
   "nbconvert_exporter": "python",
   "pygments_lexer": "ipython3",
   "version": "3.12.10"
  }
 },
 "nbformat": 4,
 "nbformat_minor": 2
}
